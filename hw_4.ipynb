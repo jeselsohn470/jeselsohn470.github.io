{
  "nbformat": 4,
  "nbformat_minor": 0,
  "metadata": {
    "colab": {
      "provenance": [],
      "authorship_tag": "ABX9TyNZINhW2Y0woY7smA/jDMyp",
      "include_colab_link": true
    },
    "kernelspec": {
      "name": "python3",
      "display_name": "Python 3"
    },
    "language_info": {
      "name": "python"
    }
  },
  "cells": [
    {
      "cell_type": "markdown",
      "metadata": {
        "id": "view-in-github",
        "colab_type": "text"
      },
      "source": [
        "<a href=\"https://colab.research.google.com/github/jeselsohn470/jeselsohn470.github.io/blob/master/hw_4.ipynb\" target=\"_parent\"><img src=\"https://colab.research.google.com/assets/colab-badge.svg\" alt=\"Open In Colab\"/></a>"
      ]
    },
    {
      "cell_type": "markdown",
      "metadata": {
        "id": "PELNEMlpx2Ri"
      },
      "source": [
        "Import the libraries math (for square root and absolute value) and pandas and numpy for reading csv files."
      ]
    },
    {
      "cell_type": "code",
      "metadata": {
        "id": "mkYTODtExydl"
      },
      "source": [
        "import math\n",
        "import pandas as pd\n",
        "import numpy as np"
      ],
      "execution_count": null,
      "outputs": []
    },
    {
      "cell_type": "markdown",
      "metadata": {
        "id": "zCgb1pGFx8od"
      },
      "source": [
        "Make an untagged vector, point, and two tagged vectors, data1 and data2:"
      ]
    },
    {
      "cell_type": "code",
      "metadata": {
        "id": "Ifbww56byViT"
      },
      "source": [
        "point = [1, 0, 0, '?'] #(an unknown tag)\n",
        "data1 = [1, 1, 1, 'M']\n",
        "data2 = [1, 3, 0, 'F']\n"
      ],
      "execution_count": null,
      "outputs": []
    },
    {
      "cell_type": "markdown",
      "metadata": {
        "id": "2hiHzqnsyhW2"
      },
      "source": [
        "Write code to separate the data (X) from the tag (Y).  Your output should be:\n",
        "\n",
        "The vector [1, 1, 1] has tag M\n",
        "\n",
        "The vector [1, 3, 0] has tag F\n"
      ]
    },
    {
      "cell_type": "code",
      "metadata": {
        "id": "CdgKt99HyaKT",
        "colab": {
          "base_uri": "https://localhost:8080/"
        },
        "outputId": "e6465aef-2cbf-4528-cca2-e7f2660b8353"
      },
      "source": [
        "print(\"The vector \" , data1[0:-1], \" has tag \", data1[-1])"
      ],
      "execution_count": null,
      "outputs": [
        {
          "output_type": "stream",
          "name": "stdout",
          "text": [
            "The vector  [1, 1, 1]  has tag  M\n"
          ]
        }
      ]
    },
    {
      "cell_type": "markdown",
      "metadata": {
        "id": "Nknnav39yb8C"
      },
      "source": [
        "Now let's classify the point as either M or F.  We'll do this by setting k = 1 and using the Euclidean distance.  We'll define that as: "
      ]
    },
    {
      "cell_type": "code",
      "metadata": {
        "id": "gT0HxYoxzG_-"
      },
      "source": [
        "def euclideanDistance(instance1, instance2, length):\n",
        "   distance = 0\n",
        "   for x in range(length):\n",
        "         #print ('x is ' , x)\n",
        "         num1=float(instance1[x])\n",
        "         num2=float(instance2[x])\n",
        "         distance = distance + pow(num1-num2, 2)\n",
        "   return math.sqrt(distance)\n"
      ],
      "execution_count": null,
      "outputs": []
    },
    {
      "cell_type": "markdown",
      "metadata": {
        "id": "RhO3w2O4zKG8"
      },
      "source": [
        "Now, find out the distance between data1 and point and data2 and point. Output what the tag should be using euclideanDistance."
      ]
    },
    {
      "cell_type": "code",
      "metadata": {
        "id": "rzHsm2KezPie",
        "colab": {
          "base_uri": "https://localhost:8080/"
        },
        "outputId": "3b40a2dc-e69d-4002-b733-1caecbe30084"
      },
      "source": [
        "print(euclideanDistance(data1,point,3))"
      ],
      "execution_count": null,
      "outputs": [
        {
          "output_type": "stream",
          "name": "stdout",
          "text": [
            "1.4142135623730951\n"
          ]
        }
      ]
    },
    {
      "cell_type": "markdown",
      "metadata": {
        "id": "bImk9yPazRCS"
      },
      "source": [
        "Now, let's get more data from a file, myFile.csv. This code will read it for us:"
      ]
    },
    {
      "cell_type": "code",
      "metadata": {
        "id": "xeInyfvYzbKj",
        "colab": {
          "base_uri": "https://localhost:8080/"
        },
        "outputId": "a81e4fca-8356-4bfc-8bb5-6d68cfad8c4f"
      },
      "source": [
        "url = 'https://github.com/rosenfa/ai/blob/master/myFile.csv?raw=true'\n",
        "df=pd.read_csv(url,  header=0, error_bad_lines=False) \n",
        "#put data in dataset without header line\n",
        "dataset = np.array(df)"
      ],
      "execution_count": null,
      "outputs": [
        {
          "output_type": "stream",
          "name": "stderr",
          "text": [
            "/usr/local/lib/python3.7/dist-packages/IPython/core/interactiveshell.py:3326: FutureWarning: The error_bad_lines argument has been deprecated and will be removed in a future version.\n",
            "\n",
            "\n",
            "  exec(code_obj, self.user_global_ns, self.user_ns)\n"
          ]
        }
      ]
    },
    {
      "cell_type": "markdown",
      "metadata": {
        "id": "X_1JLdAEzdhu"
      },
      "source": [
        "Show that you understand what you read by:\n",
        "\n",
        "1. Printing the first two vectors in the file\n",
        "2. Printing the Euclidean distance between those two vectors\n",
        "\n",
        "Here is some code which I think might help get you on your way!"
      ]
    },
    {
      "cell_type": "code",
      "metadata": {
        "id": "e4QT_37TzuWr",
        "colab": {
          "base_uri": "https://localhost:8080/"
        },
        "outputId": "6835d8dd-1ca7-442a-8568-0bce4a47186a"
      },
      "source": [
        "print(len(dataset))\n",
        "print(euclideanDistance(dataset[0],dataset[1],3))"
      ],
      "execution_count": null,
      "outputs": [
        {
          "output_type": "stream",
          "name": "stdout",
          "text": [
            "10\n",
            "5.744562646538029\n"
          ]
        }
      ]
    },
    {
      "cell_type": "code",
      "source": [
        "print(dataset[0])\n",
        "print(dataset[1])\n",
        "print(euclideanDistance(dataset[0],dataset[1],3))"
      ],
      "metadata": {
        "colab": {
          "base_uri": "https://localhost:8080/"
        },
        "id": "bedNnziLuKM7",
        "outputId": "49ba88d4-f969-4b56-d51c-2500ae7079dd"
      },
      "execution_count": null,
      "outputs": [
        {
          "output_type": "stream",
          "name": "stdout",
          "text": [
            "[0 1 2 'F']\n",
            "[1 5 6 'F']\n",
            "5.744562646538029\n"
          ]
        }
      ]
    },
    {
      "cell_type": "markdown",
      "metadata": {
        "id": "Mw03nhZuEyUw"
      },
      "source": [
        "Now assume you have a new value for point:\n",
        "\n",
        "[0,0,100]\n",
        "\n",
        "How would you classify this vector using the Euclidean distance function given all of the vectors in the file?\n",
        "\n",
        "In order to help here is a hint:  \n",
        "\n",
        "We suggest defining some type of data struction to store different vectors' distances and their tags like this:"
      ]
    },
    {
      "cell_type": "code",
      "metadata": {
        "id": "oh8ym0_SE7Rb"
      },
      "source": [
        "class distClass:\n",
        "    dist = -1 #distance of current point from test point\n",
        "    tag = '-' #tag of current point\n"
      ],
      "execution_count": null,
      "outputs": []
    },
    {
      "cell_type": "markdown",
      "metadata": {
        "id": "-KZR5lxOFP2v"
      },
      "source": [
        "You can then add vector distances like this:"
      ]
    },
    {
      "cell_type": "code",
      "metadata": {
        "colab": {
          "base_uri": "https://localhost:8080/"
        },
        "id": "hdFwOHcCFScU",
        "outputId": "30b62572-c597-40ff-89ec-9b79ff43c470"
      },
      "source": [
        "eucDistances = [] # list of distances, will hold objects of type distClass\n",
        "\n",
        "temp=dataset[1]\n",
        "label=temp[-1]\n",
        "d=euclideanDistance(point,temp,3)\n",
        "print(\"The distances between \" , point , \" and \" , temp,  \" is \" , str(d))\n",
        "print(\" and the label is \" + label)\n",
        "obj = distClass() #one record's distance and tag\n",
        "obj.dist=d\n",
        "obj.tag=label\n",
        "eucDistances.append(obj)\n"
      ],
      "execution_count": null,
      "outputs": [
        {
          "output_type": "stream",
          "name": "stdout",
          "text": [
            "The distances between  [1, 0, 0, '?']  and  [1 5 6 'F']  is  7.810249675906654\n",
            " and the label is F\n"
          ]
        }
      ]
    },
    {
      "cell_type": "code",
      "metadata": {
        "colab": {
          "base_uri": "https://localhost:8080/"
        },
        "id": "OTJBcLSJa8SR",
        "outputId": "a53fa75f-acf0-4f72-bf13-76b7691d44c6"
      },
      "source": [
        "eucDistances[0].dist"
      ],
      "execution_count": null,
      "outputs": [
        {
          "output_type": "execute_result",
          "data": {
            "text/plain": [
              "7.810249675906654"
            ]
          },
          "metadata": {},
          "execution_count": 11
        }
      ]
    },
    {
      "cell_type": "markdown",
      "metadata": {
        "id": "67seTigUFbW7"
      },
      "source": [
        "and sort them like this:"
      ]
    },
    {
      "cell_type": "code",
      "metadata": {
        "id": "J0rEdJXKFctw"
      },
      "source": [
        "eucDistances.sort(key=lambda x: x.dist) "
      ],
      "execution_count": null,
      "outputs": []
    },
    {
      "cell_type": "markdown",
      "source": [
        "# **Euclidean Distance**"
      ],
      "metadata": {
        "id": "NegosghjO3iO"
      }
    },
    {
      "cell_type": "code",
      "source": [
        "eucDistances = []\n",
        "point = [0,0,100]\n",
        "for i in range(len(dataset)):\n",
        "  d=euclideanDistance(point, dataset[i],3) \n",
        "  label= dataset[i][-1]\n",
        "  obj = distClass() #one record's distance and tag\n",
        "  obj.dist=d\n",
        "  obj.tag=label\n",
        "  eucDistances.append(obj)"
      ],
      "metadata": {
        "id": "_l3UF6qcvECh"
      },
      "execution_count": null,
      "outputs": []
    },
    {
      "cell_type": "code",
      "source": [
        "eucDistances.sort(key=lambda x: x.dist) \n",
        "for i in range(len(eucDistances)):\n",
        "  print('The distance is {} and the gender is {}.'.format(eucDistances[i].dist, eucDistances[i].tag))\n"
      ],
      "metadata": {
        "colab": {
          "base_uri": "https://localhost:8080/"
        },
        "id": "eYm48USQvnuZ",
        "outputId": "8c1cfb24-b2f5-4056-88fa-80cd3f4bef4e"
      },
      "execution_count": null,
      "outputs": [
        {
          "output_type": "stream",
          "name": "stdout",
          "text": [
            "The distance is 80.00624975587844 and the gender is M.\n",
            "The distance is 94.13819628609845 and the gender is F.\n",
            "The distance is 94.13819628609845 and the gender is M.\n",
            "The distance is 98.00510190801293 and the gender is F.\n",
            "The distance is 98.04080783020915 and the gender is F.\n",
            "The distance is 99.08582138732059 and the gender is M.\n",
            "The distance is 100.45894683899488 and the gender is F.\n",
            "The distance is 100.68266980965493 and the gender is M.\n",
            "The distance is 100.91580649234291 and the gender is M.\n",
            "The distance is 106.78014796768171 and the gender is M.\n"
          ]
        }
      ]
    },
    {
      "cell_type": "code",
      "source": [
        "male = 0\n",
        "female = 0\n",
        "k = [1, 3]\n",
        "for k_num in range(len(k)):\n",
        "  for i in range(0, k[k_num]):\n",
        "    gender = eucDistances[i].tag\n",
        "    if gender is 'M':\n",
        "      male = male + 1\n",
        "    else:\n",
        "      female = female + 1\n",
        "  print(\"Using {} for K, the result is the following:\".format(k[k_num]))\n",
        "  if male > female:\n",
        "    print(\"The Gender of this text is MALE.\")\n",
        "  else:\n",
        "    print(\"The Gender of this text is FEMALE.\")\n",
        "  print()\n",
        "  male = 0\n",
        "  female = 0"
      ],
      "metadata": {
        "colab": {
          "base_uri": "https://localhost:8080/"
        },
        "id": "haOTBGyEwIYu",
        "outputId": "4806abfd-d61d-4df3-bd85-6ae9414cb0b3"
      },
      "execution_count": null,
      "outputs": [
        {
          "output_type": "stream",
          "name": "stdout",
          "text": [
            "Using 1 for K, the result is the following:\n",
            "The Gender of this text is MALE.\n",
            "\n",
            "Using 3 for K, the result is the following:\n",
            "The Gender of this text is MALE.\n",
            "\n"
          ]
        }
      ]
    },
    {
      "cell_type": "markdown",
      "metadata": {
        "id": "eWzp7vM9FgLm"
      },
      "source": [
        "Questions:\n",
        "\n",
        "1. What is the label for point if k=1?\n",
        "2. What is the label for point if k=3?\n",
        "3. Would the result be different if we used a different distance function like Hamming or Manhattan?"
      ]
    },
    {
      "cell_type": "code",
      "metadata": {
        "id": "tbHJ5OS5GeCw"
      },
      "source": [
        "#Add code with functions that implement Hamming and Manhattan distances and test \n",
        "#what the label will be for k=1 and k=3 for all possibilities \n",
        "#(6 total: 2 Euclidean, 2 Hamming and 2 Manhattan)\n"
      ],
      "execution_count": null,
      "outputs": []
    },
    {
      "cell_type": "markdown",
      "source": [
        "# **Manhattan Distance**"
      ],
      "metadata": {
        "id": "fy_TwhCHOtW6"
      }
    },
    {
      "cell_type": "code",
      "source": [
        "def manhattanDistance(instance1, instance2, length):\n",
        "   distance = 0\n",
        "   for x in range(length):\n",
        "         num1=float(instance1[x])\n",
        "         num2=float(instance2[x])\n",
        "         distance = distance + abs(num1-num2)\n",
        "   return distance"
      ],
      "metadata": {
        "id": "C22S3EyWxIUk"
      },
      "execution_count": null,
      "outputs": []
    },
    {
      "cell_type": "code",
      "source": [
        "manDistances = []\n",
        "point = [0,0,100]\n",
        "for i in range(len(dataset)):\n",
        "  d = manhattanDistance(point, dataset[i],3) \n",
        "  label= dataset[i][-1]\n",
        "  obj = distClass() #one record's distance and tag\n",
        "  obj.dist=d\n",
        "  obj.tag=label\n",
        "  manDistances.append(obj)"
      ],
      "metadata": {
        "id": "gPAPIdFfxPmh"
      },
      "execution_count": null,
      "outputs": []
    },
    {
      "cell_type": "code",
      "source": [
        "manDistances.sort(key=lambda x: x.dist) \n",
        "for i in range(len(eucDistances)):\n",
        "  print('The distance is {} and the gender is {}.'.format(manDistances[i].dist, manDistances[i].tag))"
      ],
      "metadata": {
        "colab": {
          "base_uri": "https://localhost:8080/"
        },
        "id": "eFYOm0e1xbbS",
        "outputId": "51da5762-57c3-4567-816e-79393712f438"
      },
      "execution_count": null,
      "outputs": [
        {
          "output_type": "stream",
          "name": "stdout",
          "text": [
            "The distance is 81.0 and the gender is M.\n",
            "The distance is 99.0 and the gender is F.\n",
            "The distance is 100.0 and the gender is F.\n",
            "The distance is 100.0 and the gender is M.\n",
            "The distance is 102.0 and the gender is F.\n",
            "The distance is 104.0 and the gender is M.\n",
            "The distance is 122.0 and the gender is F.\n",
            "The distance is 123.0 and the gender is M.\n",
            "The distance is 124.0 and the gender is M.\n",
            "The distance is 140.0 and the gender is M.\n"
          ]
        }
      ]
    },
    {
      "cell_type": "code",
      "source": [
        "male = 0\n",
        "female = 0\n",
        "k = [1, 3]\n",
        "for k_num in range(len(k)):\n",
        "  for i in range(0, k[k_num]):\n",
        "    gender = manDistances[i].tag\n",
        "    if gender is 'M':\n",
        "      male = male + 1\n",
        "    else:\n",
        "      female = female + 1\n",
        "  print(\"Using {} for K, the result is the following:\".format(k[k_num]))\n",
        "  if male > female:\n",
        "    print(\"The Gender of this text is MALE.\")\n",
        "  else:\n",
        "    print(\"The Gender of this text is FEMALE.\")\n",
        "  print()\n",
        "  male = 0\n",
        "  female = 0"
      ],
      "metadata": {
        "colab": {
          "base_uri": "https://localhost:8080/"
        },
        "id": "oH8Pr1dBxsV7",
        "outputId": "b1f4bc98-1e0d-42f6-90a4-2da4ca853420"
      },
      "execution_count": null,
      "outputs": [
        {
          "output_type": "stream",
          "name": "stdout",
          "text": [
            "Using 1 for K, the result is the following:\n",
            "The Gender of this text is MALE.\n",
            "\n",
            "Using 3 for K, the result is the following:\n",
            "The Gender of this text is FEMALE.\n",
            "\n"
          ]
        }
      ]
    },
    {
      "cell_type": "markdown",
      "source": [
        "# **Hamming Distance**"
      ],
      "metadata": {
        "id": "oMktqhK3Ow4k"
      }
    },
    {
      "cell_type": "code",
      "source": [
        "def hammingDistance(instance1, instance2, length):\n",
        "   distance = 0\n",
        "   for x in range(length):\n",
        "         #print ('x is ' , x)\n",
        "         num1=float(instance1[x])\n",
        "         num2=float(instance2[x])\n",
        "         if num1 != num2:\n",
        "          distance = distance + 1\n",
        "   return distance"
      ],
      "metadata": {
        "id": "AcAAMj66zEAx"
      },
      "execution_count": null,
      "outputs": []
    },
    {
      "cell_type": "code",
      "source": [
        "hamDistances = []\n",
        "point = [0,0,100]\n",
        "for i in range(len(dataset)):\n",
        "  d = hammingDistance(point, dataset[i],3) \n",
        "  label= dataset[i][-1]\n",
        "  obj = distClass() #one record's distance and tag\n",
        "  obj.dist=d\n",
        "  obj.tag=label\n",
        "  hamDistances.append(obj)"
      ],
      "metadata": {
        "id": "x2uoGwBAzXiz"
      },
      "execution_count": null,
      "outputs": []
    },
    {
      "cell_type": "code",
      "source": [
        "hamDistances.sort(key=lambda x: x.dist) \n",
        "for i in range(len(eucDistances)):\n",
        "  print('The distance is {} and the gender is {}.'.format(hamDistances[i].dist, hamDistances[i].tag))"
      ],
      "metadata": {
        "colab": {
          "base_uri": "https://localhost:8080/"
        },
        "id": "jWm7hw8QzdDh",
        "outputId": "96c9d755-f506-4bb1-815b-b342c7d75d7e"
      },
      "execution_count": null,
      "outputs": [
        {
          "output_type": "stream",
          "name": "stdout",
          "text": [
            "The distance is 2 and the gender is F.\n",
            "The distance is 2 and the gender is M.\n",
            "The distance is 3 and the gender is F.\n",
            "The distance is 3 and the gender is M.\n",
            "The distance is 3 and the gender is F.\n",
            "The distance is 3 and the gender is M.\n",
            "The distance is 3 and the gender is M.\n",
            "The distance is 3 and the gender is F.\n",
            "The distance is 3 and the gender is M.\n",
            "The distance is 3 and the gender is M.\n"
          ]
        }
      ]
    },
    {
      "cell_type": "code",
      "source": [
        "male = 0\n",
        "female = 0\n",
        "k = [1, 3]\n",
        "for k_num in range(len(k)):\n",
        "  for i in range(0, k[k_num]):\n",
        "    gender = hamDistances[i].tag\n",
        "    if gender is 'M':\n",
        "      male = male + 1\n",
        "    else:\n",
        "      female = female + 1\n",
        "  print(\"Using {} for K, the result is the following:\".format(k[k_num]))\n",
        "  if male > female:\n",
        "    print(\"The Gender of this text is MALE.\")\n",
        "  else:\n",
        "    print(\"The Gender of this text is FEMALE.\")\n",
        "  print()\n",
        "  male = 0\n",
        "  female = 0"
      ],
      "metadata": {
        "colab": {
          "base_uri": "https://localhost:8080/"
        },
        "id": "yRspC3wczidQ",
        "outputId": "0d2894a1-e8bb-4894-c51a-48e535434d50"
      },
      "execution_count": null,
      "outputs": [
        {
          "output_type": "stream",
          "name": "stdout",
          "text": [
            "Using 1 for K, the result is the following:\n",
            "The Gender of this text is FEMALE.\n",
            "\n",
            "Using 3 for K, the result is the following:\n",
            "The Gender of this text is FEMALE.\n",
            "\n"
          ]
        }
      ]
    },
    {
      "cell_type": "markdown",
      "metadata": {
        "id": "o-XsqlSRVyEX"
      },
      "source": [
        "Up until here is a simplified version of the homework.\n",
        "Below here is the work for the part we will be checking as the basis of your grade: "
      ]
    },
    {
      "cell_type": "markdown",
      "metadata": {
        "id": "7KPzkCfLGxDK"
      },
      "source": [
        "Now let's look at some bigger files: \n",
        "\n",
        "1. mytrain.csv (for training the model)\n",
        "2. mytest.csv (for testing)\n"
      ]
    },
    {
      "cell_type": "code",
      "metadata": {
        "id": "menQ9SEoG_Ag"
      },
      "source": [
        "url = 'https://github.com/rosenfa/ai/blob/master/mytrain.csv?raw=true'\n",
        "train_data = np.array(pd.read_csv(url,  header=0, error_bad_lines=False))\n",
        "url = 'https://github.com/rosenfa/ai/blob/master/mytest.csv?raw=true'\n",
        "test_data = np.array(pd.read_csv(url,  header=0, error_bad_lines=False))"
      ],
      "execution_count": null,
      "outputs": []
    },
    {
      "cell_type": "code",
      "metadata": {
        "id": "ej1wLymKHPnT",
        "colab": {
          "base_uri": "https://localhost:8080/"
        },
        "outputId": "fd44c5a2-463b-4ca5-d532-564b110ebd73"
      },
      "source": [
        "print(train_data.shape)# number of records and features\n",
        "print(train_data)"
      ],
      "execution_count": null,
      "outputs": [
        {
          "output_type": "stream",
          "name": "stdout",
          "text": [
            "(100, 30)\n",
            "[[0.317251 0.540016 0.150514 ... 0.0 0.212007 'F']\n",
            " [3.882181 0.0 0.0 ... 0.0 0.0 'F']\n",
            " [1.790708 0.0 0.0 ... 0.0 0.0 'F']\n",
            " ...\n",
            " [0.0 0.0 0.0 ... 0.0 0.0 'M']\n",
            " [0.0 0.0 0.0 ... 0.0 0.0 'M']\n",
            " [0.0 0.0 0.0 ... 0.0 0.0 'F']]\n"
          ]
        }
      ]
    },
    {
      "cell_type": "code",
      "metadata": {
        "id": "v9YKMlcPHVWU",
        "colab": {
          "base_uri": "https://localhost:8080/"
        },
        "outputId": "2764bf20-4939-48c1-d228-1cce40902e22"
      },
      "source": [
        "print(test_data.shape)# number of records and features\n",
        "print(test_data)"
      ],
      "execution_count": null,
      "outputs": [
        {
          "output_type": "stream",
          "name": "stdout",
          "text": [
            "(100, 30)\n",
            "[[2.85985 0.66275 0.0 ... 0.995289 0.0 'F']\n",
            " [0.0 12.998726 0.0 ... 0.0 0.0 'F']\n",
            " [13.231318 0.0 0.0 ... 0.0 0.0 'F']\n",
            " ...\n",
            " [0.0 0.0 0.0 ... 0.0 0.0 'M']\n",
            " [1.688611 0.0 3.204529 ... 0.0 0.0 'M']\n",
            " [0.0 0.0 0.0 ... 0.0 0.0 'M']]\n"
          ]
        }
      ]
    },
    {
      "cell_type": "markdown",
      "metadata": {
        "id": "hsjBpdObIB7d"
      },
      "source": [
        "I hope by now you understand where we are going with this :)\n",
        "\n",
        "Now implement the knn code with 3 different values for k:\n",
        "1. k = 1\n",
        "2. k = 7\n",
        "3. k = 15\n",
        "\n",
        "and at first use the Euclidean distance.\n",
        "Classify each of the vectors in the test_data dataset using the training data from train_data.  Which value for k did the best?  What accuracy did it give you?\n",
        "\n",
        "Now see if using Hamming or Manhattan distance give any better results for the same values of k.  \n",
        "\n",
        "Once you are done, you should have a total of 9 different results:\n",
        "\n",
        "1. Three results for the different value of k using the Euclidean Distance\n",
        "2. Three results for the different value of k using the Hamming Distance\n",
        "3. Three results for the different value of k using the Manhattan Distance\n",
        "\n",
        "Hint: I strongly suggest you base yourself on the code you've seen until this point so you don't have to reinvent the wheel!"
      ]
    },
    {
      "cell_type": "markdown",
      "source": [
        "# **Euclidean Distance**"
      ],
      "metadata": {
        "id": "LIDgQNYz1Mmg"
      }
    },
    {
      "cell_type": "code",
      "metadata": {
        "id": "dIyZbN4kJBrO",
        "colab": {
          "base_uri": "https://localhost:8080/"
        },
        "outputId": "564ba446-f540-4bc3-aa96-67dddf41c551"
      },
      "source": [
        "#Add code here\n",
        "# use this array to find the accuracy using all three k values \n",
        "k = [1, 7, 15]\n",
        "for k_num in range(len(k)):\n",
        "  correctly_identified = 0\n",
        "  incorrectly_identified = 0\n",
        "  # go through each test point\n",
        "  for test_point in test_data:\n",
        "    eucDistances = []\n",
        "    # for each test point, get all the distances betweent that point and all the training points\n",
        "    for i in range(len(train_data)):\n",
        "      d=euclideanDistance(test_point, train_data[i], 29) \n",
        "      label= train_data[i][-1]\n",
        "      obj = distClass() #one record's distance and tag\n",
        "      obj.dist=d\n",
        "      obj.tag=label\n",
        "      eucDistances.append(obj)\n",
        "    # sort all the distances\n",
        "    eucDistances.sort(key=lambda x: x.dist) \n",
        "    \n",
        "    # have these two variables to see which one has the most closest poionts to the test point\n",
        "    male = 0\n",
        "    female = 0\n",
        "    for j in range(0, k[k_num]):\n",
        "        # find the gender which the algorithm predicts using the k closest points\n",
        "        gender = eucDistances[j].tag\n",
        "        if gender is 'M':\n",
        "          male = male + 1\n",
        "        else:\n",
        "          female = female + 1\n",
        "    # check if the algorithm predicted correctly.\n",
        "\n",
        "    # if the k closests points were male\n",
        "    if male >= female:\n",
        "        # if the prediced value is  the same as the actual value\n",
        "        if test_point[len(test_point) - 1] is 'M':\n",
        "          correctly_identified += 1\n",
        "        else:\n",
        "          incorrectly_identified += 1\n",
        "    # if the k closests points were female\n",
        "    else:\n",
        "        # if the prediced value is  the same as the actual value\n",
        "        if test_point[len(test_point) - 1] is 'F':\n",
        "          correctly_identified += 1\n",
        "        else:\n",
        "          incorrectly_identified += 1\n",
        "  print(\"Using {} for K, the accuracy using the Euclidean Distance  is the following: {}\".format(k[k_num], (correctly_identified / (correctly_identified + incorrectly_identified))))\n",
        "  print()\n",
        "  # reset the  variable for the next iteration of k = \n",
        "  correctly_identified = 0\n",
        "  incorrectly_identified = 0\n",
        "  male = 0\n",
        "  female = 0"
      ],
      "execution_count": null,
      "outputs": [
        {
          "output_type": "stream",
          "name": "stdout",
          "text": [
            "Using 1 for K, the accuracy using the Euclidean Distance  is the following: 0.5\n",
            "\n",
            "Using 7 for K, the accuracy using the Euclidean Distance  is the following: 0.74\n",
            "\n",
            "Using 15 for K, the accuracy using the Euclidean Distance  is the following: 0.7\n",
            "\n"
          ]
        }
      ]
    },
    {
      "cell_type": "markdown",
      "source": [
        "**Analysis**\n",
        "\n",
        "We see here that for Euclidean Distance, k =7 did the best with an accuracy of .74 percent."
      ],
      "metadata": {
        "id": "ofZ2WaBnC9-s"
      }
    },
    {
      "cell_type": "markdown",
      "source": [
        "# **Hamming Distance**"
      ],
      "metadata": {
        "id": "IYH4Hvmu_Vpc"
      }
    },
    {
      "cell_type": "code",
      "source": [
        "#Add code here\n",
        "# use this array to find the accuracy using all three k values \n",
        "k = [1, 7, 15]\n",
        "for k_num in range(len(k)):\n",
        "  correctly_identified = 0\n",
        "  incorrectly_identified = 0\n",
        "  # go through each test point\n",
        "  for test_point in test_data:\n",
        "    hamDistances = []\n",
        "    # for each test point, get all the distances betweent that point and all the training points\n",
        "    for i in range(len(train_data)):\n",
        "      d=hammingDistance(test_point, train_data[i], 29) \n",
        "      label= train_data[i][-1]\n",
        "      obj = distClass() #one record's distance and tag\n",
        "      obj.dist=d\n",
        "      obj.tag=label\n",
        "      hamDistances.append(obj)\n",
        "    # sort all the distances\n",
        "    hamDistances.sort(key=lambda x: x.dist) \n",
        "    \n",
        "    # have these two variables to see which one has the most closest poionts to the test point\n",
        "    male = 0\n",
        "    female = 0\n",
        "    for j in range(0, k[k_num]):\n",
        "        # find the gender which the algorithm predicts using the k closest points\n",
        "        gender = hamDistances[j].tag\n",
        "        if gender is 'M':\n",
        "          male = male + 1\n",
        "        else:\n",
        "          female = female + 1\n",
        "    # check if the algorithm predicted correctly.\n",
        "\n",
        "    # if the k closests points were male\n",
        "    if male >= female:\n",
        "        # if the prediced value is  the same as the actual value\n",
        "        if test_point[len(test_point) - 1] is 'M':\n",
        "          correctly_identified += 1\n",
        "        else:\n",
        "          incorrectly_identified += 1\n",
        "    # if the k closests points were female\n",
        "    else:\n",
        "        # if the prediced value is  the same as the actual value\n",
        "        if test_point[len(test_point) - 1] is 'F':\n",
        "          correctly_identified += 1\n",
        "        else:\n",
        "          incorrectly_identified += 1\n",
        "  print(\"Using {} for K, the accuracy using the Hamming Distance  is the following: {}\".format(k[k_num], (correctly_identified / (correctly_identified + incorrectly_identified))))\n",
        "  print()\n",
        "  # reset the  variable for the next iteration of k = \n",
        "  correctly_identified = 0\n",
        "  incorrectly_identified = 0\n",
        "  male = 0\n",
        "  female = 0"
      ],
      "metadata": {
        "colab": {
          "base_uri": "https://localhost:8080/"
        },
        "id": "eKRMcJxQ53hT",
        "outputId": "ecbe310e-4d10-47e9-ae39-3497a8a7264a"
      },
      "execution_count": null,
      "outputs": [
        {
          "output_type": "stream",
          "name": "stdout",
          "text": [
            "Using 1 for K, the accuracy using the Hamming Distance  is the following: 0.61\n",
            "\n",
            "Using 7 for K, the accuracy using the Hamming Distance  is the following: 0.55\n",
            "\n",
            "Using 15 for K, the accuracy using the Hamming Distance  is the following: 0.57\n",
            "\n"
          ]
        }
      ]
    },
    {
      "cell_type": "markdown",
      "source": [
        "**Analysis**\n",
        "\n",
        "We see here that for Hamming Distance, k =1 did the best with an accuracy of .61 percent."
      ],
      "metadata": {
        "id": "qcLI-y43DGen"
      }
    },
    {
      "cell_type": "markdown",
      "source": [
        "# **Manhattan Distance**"
      ],
      "metadata": {
        "id": "6hI4AbBH_p44"
      }
    },
    {
      "cell_type": "code",
      "source": [
        "#Add code here\n",
        "# use this array to find the accuracy using all three k values \n",
        "k = [1, 7, 15]\n",
        "for k_num in range(len(k)):\n",
        "  correctly_identified = 0\n",
        "  incorrectly_identified = 0\n",
        "  # go through each test point\n",
        "  for test_point in test_data:\n",
        "    manhattanDistances = []\n",
        "    # for each test point, get all the distances betweent that point and all the training points\n",
        "    for i in range(len(train_data)):\n",
        "      d=manhattanDistance(test_point, train_data[i], 29) \n",
        "      label= train_data[i][-1]\n",
        "      obj = distClass() #one record's distance and tag\n",
        "      obj.dist=d\n",
        "      obj.tag=label\n",
        "      manhattanDistances.append(obj)\n",
        "    # sort all the distances\n",
        "    manhattanDistances.sort(key=lambda x: x.dist) \n",
        "    \n",
        "    # have these two variables to see which one has the most closest poionts to the test point\n",
        "    male = 0\n",
        "    female = 0\n",
        "    for j in range(0, k[k_num]):\n",
        "        # find the gender which the algorithm predicts using the k closest points\n",
        "        gender = manhattanDistances[j].tag\n",
        "        if gender is 'M':\n",
        "          male = male + 1\n",
        "        else:\n",
        "          female = female + 1\n",
        "    # check if the algorithm predicted correctly.\n",
        "\n",
        "    # if the k closests points were male\n",
        "    if male >= female:\n",
        "        # if the prediced value is  the same as the actual value\n",
        "        if test_point[len(test_point) - 1] is 'M':\n",
        "          correctly_identified += 1\n",
        "        else:\n",
        "          incorrectly_identified += 1\n",
        "    # if the k closests points were female\n",
        "    else:\n",
        "        # if the prediced value is  the same as the actual value\n",
        "        if test_point[len(test_point) - 1] is 'F':\n",
        "          correctly_identified += 1\n",
        "        else:\n",
        "          incorrectly_identified += 1\n",
        "  print(\"Using {} for K, the accuracy using the Manhattan Distance  is the following: {}\".format(k[k_num], (correctly_identified / (correctly_identified + incorrectly_identified))))\n",
        "  print()\n",
        "  # reset the  variable for the next iteration of k = \n",
        "  correctly_identified = 0\n",
        "  incorrectly_identified = 0\n",
        "  male = 0\n",
        "  female = 0"
      ],
      "metadata": {
        "colab": {
          "base_uri": "https://localhost:8080/"
        },
        "id": "TydyTTZD242t",
        "outputId": "62bd1c7a-d8fb-4991-cc04-11449fec385c"
      },
      "execution_count": null,
      "outputs": [
        {
          "output_type": "stream",
          "name": "stdout",
          "text": [
            "Using 1 for K, the accuracy using the Manhattan Distance  is the following: 0.61\n",
            "\n",
            "Using 7 for K, the accuracy using the Manhattan Distance  is the following: 0.63\n",
            "\n",
            "Using 15 for K, the accuracy using the Manhattan Distance  is the following: 0.69\n",
            "\n"
          ]
        }
      ]
    },
    {
      "cell_type": "markdown",
      "source": [
        "**Analysis**\n",
        "\n",
        "We see here that for Manhattans Distance, k =15 did the best with an accuracy of .69 percent."
      ],
      "metadata": {
        "id": "0oXc4ZyqDNGU"
      }
    },
    {
      "cell_type": "markdown",
      "source": [
        "# **OVERALL ANALYSIS**\n",
        "\n",
        "Overall, it seems that that the KNN  algorithm which worked the best was with using the euclidean distance and setting k to 7. This led  to an accuracy of .74."
      ],
      "metadata": {
        "id": "QXIpOOn6Awaz"
      }
    },
    {
      "cell_type": "markdown",
      "metadata": {
        "id": "HD2PnNuTQ175"
      },
      "source": [
        "Grade Basis:\n",
        "\n",
        "80% for correct answers (and yes, there are possibilities that multiple answers are correct-- especially for cases of ties).\n",
        "\n",
        "20% : Documentation and easily readable code\n",
        "\n",
        "Please publish your final Notebook in your Github directory.\n"
      ]
    }
  ]
}